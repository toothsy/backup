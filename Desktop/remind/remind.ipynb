{
 "cells": [
  {
   "cell_type": "code",
   "execution_count": 16,
   "metadata": {},
   "outputs": [],
   "source": [
    "from time import sleep"
   ]
  },
  {
   "cell_type": "code",
   "execution_count": 2,
   "metadata": {},
   "outputs": [],
   "source": [
    "from ibm_watson import TextToSpeechV1\n",
    "from ibm_cloud_sdk_core.authenticators import IAMAuthenticator"
   ]
  },
  {
   "cell_type": "code",
   "execution_count": 3,
   "metadata": {},
   "outputs": [],
   "source": [
    "apikey = 'HFpFByYN0zqaSNxHUVw2UO6qwdepAAmoPenDEo-t6WJO'\n",
    "url = 'https://api.eu-gb.text-to-speech.watson.cloud.ibm.com/instances/fce47aa5-4509-4af5-afd2-caa5e5dd8ebe'"
   ]
  },
  {
   "cell_type": "code",
   "execution_count": 36,
   "metadata": {},
   "outputs": [],
   "source": [
    "authenticator = IAMAuthenticator(apikey)\n",
    "tts = TextToSpeechV1(authenticator=authenticator)\n",
    "tts.set_service_url(url)"
   ]
  },
  {
   "cell_type": "code",
   "execution_count": 7,
   "metadata": {},
   "outputs": [],
   "source": [
    "with open('./speech.mp3', 'wb') as audio_file:\n",
    "    res = tts.synthesize('Hello World!', accept='audio/mp3', voice='en-US_AllisonV3Voice').get_result()\n",
    "    audio_file.write(res.content)\n",
    "    audio_file.close()\n",
    "    "
   ]
  },
  {
   "cell_type": "code",
   "execution_count": 11,
   "metadata": {},
   "outputs": [],
   "source": [
    "ct = strftime(\"%H:%M\",localtime())"
   ]
  },
  {
   "cell_type": "code",
   "execution_count": 14,
   "metadata": {},
   "outputs": [
    {
     "data": {
      "text/plain": [
       "'its 15:50, take a break buddy'"
      ]
     },
     "execution_count": 14,
     "metadata": {},
     "output_type": "execute_result"
    }
   ],
   "source": [
    "tts = 'its {0}, take a break buddy'.format(ct)\n",
    "tts"
   ]
  },
  {
   "cell_type": "code",
   "execution_count": 15,
   "metadata": {},
   "outputs": [],
   "source": []
  },
  {
   "cell_type": "code",
   "execution_count": 25,
   "metadata": {},
   "outputs": [
    {
     "name": "stdout",
     "output_type": "stream",
     "text": [
      "./0.mp3\n",
      "./0.mp3\n",
      "./1.mp3\n",
      "./1.mp3\n",
      "./2.mp3\n",
      "./2.mp3\n",
      "./3.mp3\n",
      "./3.mp3\n",
      "./4.mp3\n",
      "./4.mp3\n",
      "./5.mp3\n",
      "./5.mp3\n",
      "./6.mp3\n",
      "./6.mp3\n",
      "./7.mp3\n",
      "./7.mp3\n",
      "./8.mp3\n",
      "./8.mp3\n",
      "./9.mp3\n",
      "./9.mp3\n",
      "./10_0.mp3\n",
      "./10_30.mp3\n",
      "./11_0.mp3\n",
      "./11_30.mp3\n",
      "./12_0.mp3\n",
      "./12_30.mp3\n",
      "./13_0.mp3\n",
      "./13_30.mp3\n",
      "./14_0.mp3\n",
      "./14_30.mp3\n",
      "./15_0.mp3\n",
      "./15_30.mp3\n",
      "./16_0.mp3\n",
      "./16_30.mp3\n",
      "./17_0.mp3\n",
      "./17_30.mp3\n",
      "./18_0.mp3\n",
      "./18_30.mp3\n",
      "./19_0.mp3\n",
      "./19_30.mp3\n",
      "./20_0.mp3\n",
      "./20_30.mp3\n",
      "./21_0.mp3\n",
      "./21_30.mp3\n",
      "./22_0.mp3\n",
      "./22_30.mp3\n",
      "./23_0.mp3\n",
      "./23_30.mp3\n"
     ]
    }
   ],
   "source": [
    "for h in range(0,24):\n",
    "    for m in range(0,61):\n",
    "        if(m%30==0 and m!=60):\n",
    "#             mS= m if(m==30) else \n",
    "            name = './{0}.mp3' if(h<10) else './{0}_{1}.mp3'\n",
    "            print(name.format(h,m))\n",
    "                \n",
    "#             with open(name.format(h,m), 'wb') as audio_file:\n",
    "#                 res = tts.synthesize('its {0}:{1}, take a break buddy'.format(h,m), accept='audio/mp3', voice='en-US_AllisonV3Voice').get_result()\n",
    "#                 audio_file.write(res.content)\n",
    "#                 audio_file.close()\n",
    "#                 sleep(.5)"
   ]
  },
  {
   "cell_type": "code",
   "execution_count": 57,
   "metadata": {},
   "outputs": [
    {
     "name": "stdout",
     "output_type": "stream",
     "text": [
      "./0_00.mp3\n"
     ]
    }
   ],
   "source": [
    "for h in range(0,1):\n",
    "    name='./{0}_00.mp3'.format(h)\n",
    "    print(name)\n",
    "    text='its {0}:00, don\\'t forget to take a break'.format(h)\n",
    "    with open(name, 'wb') as audio_file:\n",
    "        res = tts.synthesize(text, accept='audio/mp3', voice='en-US_AllisonV3Voice').get_result()\n",
    "        audio_file.write(res.content)\n",
    "        audio_file.close()\n",
    "        sleep(.2)"
   ]
  },
  {
   "cell_type": "code",
   "execution_count": 50,
   "metadata": {},
   "outputs": [],
   "source": [
    "    \n",
    "with open(name, 'wb') as audio_file:\n",
    "        res = tts.synthesize(text, accept='audio/mp3', voice='en-US_AllisonV3Voice').get_result()\n",
    "        audio_file.write(res.content)\n",
    "        audio_file.close()"
   ]
  },
  {
   "cell_type": "code",
   "execution_count": null,
   "metadata": {},
   "outputs": [],
   "source": []
  }
 ],
 "metadata": {
  "kernelspec": {
   "display_name": "Python 3",
   "language": "python",
   "name": "python3"
  },
  "language_info": {
   "codemirror_mode": {
    "name": "ipython",
    "version": 3
   },
   "file_extension": ".py",
   "mimetype": "text/x-python",
   "name": "python",
   "nbconvert_exporter": "python",
   "pygments_lexer": "ipython3",
   "version": "3.8.5"
  }
 },
 "nbformat": 4,
 "nbformat_minor": 4
}
