{
 "cells": [
  {
   "cell_type": "markdown",
   "metadata": {},
   "source": [
    "# primes"
   ]
  },
  {
   "cell_type": "code",
   "execution_count": 43,
   "metadata": {},
   "outputs": [],
   "source": [
    "def sieve(N):\n",
    "    primesTillN = [True for i in range(N+1)]\n",
    "    primesTillN[0] = primesTillN[1] = False\n",
    "    # marking all even as false\n",
    "    if(N<2):\n",
    "        return []\n",
    "    for num in range(4,N+1,2):\n",
    "        primesTillN[num] = False\n",
    "        \n",
    "    primes = [2]\n",
    "    \n",
    "    for num in range(3,N+1,2):\n",
    "        if(primesTillN[num]):\n",
    "            n = num\n",
    "            primes.append(n)\n",
    "            # if a number is true then mark its multiples false\n",
    "            for i in range(n**2,N+1,n):\n",
    "                primesTillN[i] = False\n",
    "                n+=2\n",
    "    print(primes)\n",
    "    return primes"
   ]
  },
  {
   "cell_type": "code",
   "execution_count": 44,
   "metadata": {},
   "outputs": [
    {
     "name": "stdout",
     "output_type": "stream",
     "text": [
      "enter the number till which you want primes generated \n",
      "1\n",
      "nay, it aint a prime\n"
     ]
    }
   ],
   "source": [
    "n = int(input(\"enter the number till which you want primes generated \\n\"))\n",
    "\n",
    "if n in sieve(n):\n",
    "    print(\"yes its a prime\")\n",
    "else:\n",
    "    print(\"nay, it aint a prime\")"
   ]
  },
  {
   "cell_type": "markdown",
   "metadata": {},
   "source": [
    "# error handling and input parsing\n",
    "\n"
   ]
  },
  {
   "cell_type": "code",
   "execution_count": 39,
   "metadata": {},
   "outputs": [],
   "source": [
    "def inpHandle():\n",
    "    tot = 0\n",
    "    count = 0;\n",
    "    inp=\"\"\n",
    "    while(inp!=\"done\"):\n",
    "        inp = input(\"enter numbers or done to stop\\n\")        \n",
    "        try:\n",
    "            num = int(inp)\n",
    "            tot+=num\n",
    "            count+=1\n",
    "        except:\n",
    "            if(inp!=\"done\"):\n",
    "                print(\"give proper input bruv\\n\")\n",
    "    print(\"\\ntotal numbers are \",str(count))\n",
    "    print(\"\\naverage is \",str(tot/count))\n",
    "    print(\"\\nsum is \",str(tot))\n"
   ]
  },
  {
   "cell_type": "code",
   "execution_count": 40,
   "metadata": {},
   "outputs": [
    {
     "name": "stdout",
     "output_type": "stream",
     "text": [
      "enter numbers or done to stop\n",
      "20\n",
      "enter numbers or done to stop\n",
      "30\n",
      "enter numbers or done to stop\n",
      "40\n",
      "enter numbers or done to stop\n",
      "done\n",
      "\n",
      "total numbers are  3\n",
      "\n",
      "average is  30.0\n",
      "\n",
      "sum is  90\n"
     ]
    }
   ],
   "source": [
    "inpHandle()"
   ]
  },
  {
   "cell_type": "markdown",
   "metadata": {},
   "source": [
    "# file handling"
   ]
  },
  {
   "cell_type": "code",
   "execution_count": 42,
   "metadata": {},
   "outputs": [
    {
     "name": "stdout",
     "output_type": "stream",
     "text": [
      "['aah', 'atharva', 'bruv', 'chan', 'general', 'hello', 'kenobi', 'konichiwa', 'nandeska', 'oh', 'ohio', 'ollo', 'oni', 'there', 'whoa']\n"
     ]
    }
   ],
   "source": [
    "file = open('inp.txt')\n",
    "listOfWords = []\n",
    "for line in file:\n",
    "    words = line.split()\n",
    "    for word in words:\n",
    "        if word in listOfWords: continue\n",
    "        listOfWords.append(word)\n",
    "print(sorted(listOfWords))"
   ]
  },
  {
   "cell_type": "code",
   "execution_count": null,
   "metadata": {},
   "outputs": [],
   "source": []
  }
 ],
 "metadata": {
  "kernelspec": {
   "display_name": "Python 3",
   "language": "python",
   "name": "python3"
  },
  "language_info": {
   "codemirror_mode": {
    "name": "ipython",
    "version": 3
   },
   "file_extension": ".py",
   "mimetype": "text/x-python",
   "name": "python",
   "nbconvert_exporter": "python",
   "pygments_lexer": "ipython3",
   "version": "3.8.3"
  }
 },
 "nbformat": 4,
 "nbformat_minor": 4
}
