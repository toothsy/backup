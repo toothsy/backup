{
 "cells": [
  {
   "cell_type": "markdown",
   "metadata": {},
   "source": [
    "# primes"
   ]
  },
  {
   "cell_type": "code",
   "execution_count": 43,
   "metadata": {},
   "outputs": [],
   "source": [
    "def sieve(N):\n",
    "    primesTillN = [True for i in range(N+1)]\n",
    "    primesTillN[0] = primesTillN[1] = False\n",
    "    # marking all even as false\n",
    "    if(N<2):\n",
    "        return []\n",
    "    for num in range(4,N+1,2):\n",
    "        primesTillN[num] = False\n",
    "        \n",
    "    primes = [2]\n",
    "    \n",
    "    for num in range(3,N+1,2):\n",
    "        if(primesTillN[num]):\n",
    "            n = num\n",
    "            primes.append(n)\n",
    "            # if a number is true then mark its multiples false\n",
    "            for i in range(n**2,N+1,n):\n",
    "                primesTillN[i] = False\n",
    "                n+=2\n",
    "    print(primes)\n",
    "    return primes"
   ]
  },
  {
   "cell_type": "code",
   "execution_count": 44,
   "metadata": {},
   "outputs": [
    {
     "name": "stdout",
     "output_type": "stream",
     "text": [
      "enter the number till which you want primes generated \n",
      "1\n",
      "nay, it aint a prime\n"
     ]
    }
   ],
   "source": [
    "n = int(input(\"enter the number till which you want primes generated \\n\"))\n",
    "\n",
    "if n in sieve(n):\n",
    "    print(\"yes its a prime\")\n",
    "else:\n",
    "    print(\"nay, it aint a prime\")"
   ]
  },
  {
   "cell_type": "markdown",
   "metadata": {},
   "source": [
    "# error handling and input parsing\n",
    "\n"
   ]
  },
  {
   "cell_type": "code",
   "execution_count": 39,
   "metadata": {},
   "outputs": [],
   "source": [
    "def inpHandle():\n",
    "    tot = 0\n",
    "    count = 0;\n",
    "    inp=\"\"\n",
    "    while(inp!=\"done\"):\n",
    "        inp = input(\"enter numbers or done to stop\\n\")        \n",
    "        try:\n",
    "            num = int(inp)\n",
    "            tot+=num\n",
    "            count+=1\n",
    "        except:\n",
    "            if(inp!=\"done\"):\n",
    "                print(\"give proper input bruv\\n\")\n",
    "    print(\"\\ntotal numbers are \",str(count))\n",
    "    print(\"\\naverage is \",str(tot/count))\n",
    "    print(\"\\nsum is \",str(tot))\n"
   ]
  },
  {
   "cell_type": "code",
   "execution_count": 40,
   "metadata": {},
   "outputs": [
    {
     "name": "stdout",
     "output_type": "stream",
     "text": [
      "enter numbers or done to stop\n",
      "20\n",
      "enter numbers or done to stop\n",
      "30\n",
      "enter numbers or done to stop\n",
      "40\n",
      "enter numbers or done to stop\n",
      "done\n",
      "\n",
      "total numbers are  3\n",
      "\n",
      "average is  30.0\n",
      "\n",
      "sum is  90\n"
     ]
    }
   ],
   "source": [
    "inpHandle()"
   ]
  },
  {
   "cell_type": "markdown",
   "metadata": {},
   "source": [
    "# file handling"
   ]
  },
  {
   "cell_type": "code",
   "execution_count": 42,
   "metadata": {},
   "outputs": [
    {
     "name": "stdout",
     "output_type": "stream",
     "text": [
      "['aah', 'atharva', 'bruv', 'chan', 'general', 'hello', 'kenobi', 'konichiwa', 'nandeska', 'oh', 'ohio', 'ollo', 'oni', 'there', 'whoa']\n"
     ]
    }
   ],
   "source": [
    "file = open('inp.txt')\n",
    "listOfWords = []\n",
    "for line in file:\n",
    "    words = line.split()\n",
    "    for word in words:\n",
    "        if word in listOfWords: continue\n",
    "        listOfWords.append(word)\n",
    "print(sorted(listOfWords))"
   ]
  },
  {
   "cell_type": "markdown",
   "metadata": {},
   "source": [
    "# NUMPY\n"
   ]
  },
  {
   "cell_type": "code",
   "execution_count": 10,
   "metadata": {},
   "outputs": [
    {
     "name": "stdout",
     "output_type": "stream",
     "text": [
      "[1 2 3]\n",
      "[1.+0.j 2.+0.j 3.+0.j]\n",
      "[[1 2 3]\n",
      " [4 5 6]]\n",
      "a is [[1 2 3]\n",
      " [4 5 6]]\n",
      "reshaped is [[1 2]\n",
      " [3 4]\n",
      " [5 6]]\n"
     ]
    }
   ],
   "source": [
    "import numpy as np \n",
    "a = np.array([1,2,3]) \n",
    "print( a)\n",
    "\n",
    "a = np.array([1, 2, 3], dtype = complex) \n",
    "print(a)\n",
    "\n",
    "a = np.array([[1,2,3],[4,5,6]]) \n",
    "print(a)\n",
    "\n",
    "\n",
    "a = np.array([[1,2,3],[4,5,6]]) \n",
    "b = a.reshape(3,2) \n",
    "\n",
    "print(\"a is \"+str(a))\n",
    "print(\"reshaped is \"+str(b))"
   ]
  },
  {
   "cell_type": "code",
   "execution_count": 11,
   "metadata": {},
   "outputs": [
    {
     "name": "stdout",
     "output_type": "stream",
     "text": [
      "[ 0  1  2  3  4  5  6  7  8  9 10 11 12 13 14]\n"
     ]
    }
   ],
   "source": [
    "print(np.arange(15))"
   ]
  },
  {
   "cell_type": "code",
   "execution_count": 12,
   "metadata": {},
   "outputs": [
    {
     "name": "stdout",
     "output_type": "stream",
     "text": [
      "[0 1 2 3 4 5 6 7 8 9]\n"
     ]
    }
   ],
   "source": [
    "a = np.arange(10) \n",
    "s = slice(2,7,2) \n",
    "print(a)\n"
   ]
  },
  {
   "cell_type": "markdown",
   "metadata": {},
   "source": [
    "# MATPLOTLIB"
   ]
  },
  {
   "cell_type": "code",
   "execution_count": 13,
   "metadata": {},
   "outputs": [
    {
     "data": {
      "image/png": "[encoded data removed]",
      "text/plain": [
       "<Figure size 432x288 with 1 Axes>"
      ]
     },
     "metadata": {
      "needs_background": "light"
     },
     "output_type": "display_data"
    }
   ],
   "source": [
    "from matplotlib import pyplot as plt \n",
    "x = np.arange(1,11) \n",
    "y = 2 * x + 5 \n",
    "plt.title(\"first lab\") \n",
    "plt.xlabel(\"x axis caption\") \n",
    "plt.ylabel(\"y axis caption\") \n",
    "plt.plot(x,y) \n",
    "plt.show()\n"
   ]
  },
  {
   "cell_type": "code",
   "execution_count": 14,
   "metadata": {},
   "outputs": [
    {
     "data": {
      "image/png": "[encoded data removed]",
      "text/plain": [
       "<Figure size 432x288 with 1 Axes>"
      ]
     },
     "metadata": {
      "needs_background": "light"
     },
     "output_type": "display_data"
    }
   ],
   "source": [
    "x = [5,8,10] \n",
    "y = [12,16,6]  \n",
    "x2 = [6,9,11] \n",
    "y2 = [6,15,7] \n",
    "plt.bar(x, y, align = 'center') \n",
    "plt.bar(x2, y2, color = 'g', align = 'center') \n",
    "plt.title('Bar graph') \n",
    "plt.ylabel('Y axis') \n",
    "plt.xlabel('X axis')  \n",
    "plt.show()\n"
   ]
  },
  {
   "cell_type": "code",
   "execution_count": 15,
   "metadata": {},
   "outputs": [
    {
     "data": {
      "image/png": "[encoded data removed]",
      "text/plain": [
       "<Figure size 432x288 with 1 Axes>"
      ]
     },
     "metadata": {
      "needs_background": "light"
     },
     "output_type": "display_data"
    }
   ],
   "source": [
    "a = np.array([22,87,5,43,56,73,55,54,11,20,51,5,79,31,27]) \n",
    "plt.hist(a, bins = [0,20,40,60,80,100]) \n",
    "plt.title(\"histogram\") \n",
    "plt.show()\n"
   ]
  },
  {
   "cell_type": "markdown",
   "metadata": {},
   "source": [
    "# PANDAS"
   ]
  },
  {
   "cell_type": "code",
   "execution_count": 16,
   "metadata": {},
   "outputs": [],
   "source": [
    "import pandas as pd\n",
    "data_csv= pd.read_csv (\"cars_data.csv\")\n"
   ]
  },
  {
   "cell_type": "code",
   "execution_count": 17,
   "metadata": {},
   "outputs": [
    {
     "name": "stdout",
     "output_type": "stream",
     "text": [
      "RangeIndex(start=0, stop=1436, step=1)\n",
      "Index(['Id', 'Model', 'Price', 'Age', 'Mfg_Month', 'Mfg_Year', 'KM',\n",
      "       'Fuel_Type', 'HP', 'Met_Color', 'Automatic', 'cc', 'Doors', 'Cylinders',\n",
      "       'Weight'],\n",
      "      dtype='object')\n",
      "(1436, 15)\n"
     ]
    }
   ],
   "source": [
    "print(data_csv.index)\n",
    "print(data_csv.columns)\n",
    "print(data_csv. shape)\n"
   ]
  },
  {
   "cell_type": "code",
   "execution_count": 18,
   "metadata": {},
   "outputs": [
    {
     "data": {
      "text/plain": [
       "Id            int64\n",
       "Model        object\n",
       "Price         int64\n",
       "Age           int64\n",
       "Mfg_Month     int64\n",
       "Mfg_Year      int64\n",
       "KM           object\n",
       "Fuel_Type    object\n",
       "HP            int64\n",
       "Met_Color     int64\n",
       "Automatic     int64\n",
       "cc            int64\n",
       "Doors         int64\n",
       "Cylinders     int64\n",
       "Weight        int64\n",
       "dtype: object"
      ]
     },
     "execution_count": 18,
     "metadata": {},
     "output_type": "execute_result"
    }
   ],
   "source": [
    "data_csv.dtypes"
   ]
  },
  {
   "cell_type": "code",
   "execution_count": 19,
   "metadata": {},
   "outputs": [
    {
     "name": "stdout",
     "output_type": "stream",
     "text": [
      "<class 'pandas.core.frame.DataFrame'>\n",
      "RangeIndex: 1436 entries, 0 to 1435\n",
      "Data columns (total 15 columns):\n",
      " #   Column     Non-Null Count  Dtype \n",
      "---  ------     --------------  ----- \n",
      " 0   Id         1436 non-null   int64 \n",
      " 1   Model      1436 non-null   object\n",
      " 2   Price      1436 non-null   int64 \n",
      " 3   Age        1436 non-null   int64 \n",
      " 4   Mfg_Month  1436 non-null   int64 \n",
      " 5   Mfg_Year   1436 non-null   int64 \n",
      " 6   KM         1436 non-null   object\n",
      " 7   Fuel_Type  1436 non-null   object\n",
      " 8   HP         1436 non-null   int64 \n",
      " 9   Met_Color  1436 non-null   int64 \n",
      " 10  Automatic  1436 non-null   int64 \n",
      " 11  cc         1436 non-null   int64 \n",
      " 12  Doors      1436 non-null   int64 \n",
      " 13  Cylinders  1436 non-null   int64 \n",
      " 14  Weight     1436 non-null   int64 \n",
      "dtypes: int64(12), object(3)\n",
      "memory usage: 168.4+ KB\n"
     ]
    }
   ],
   "source": [
    "data_csv.info()"
   ]
  },
  {
   "cell_type": "code",
   "execution_count": 20,
   "metadata": {},
   "outputs": [
    {
     "data": {
      "text/plain": [
       "array([0, 1], dtype=int64)"
      ]
     },
     "execution_count": 20,
     "metadata": {},
     "output_type": "execute_result"
    }
   ],
   "source": [
    "np.unique (data_csv ['Automatic'])"
   ]
  },
  {
   "cell_type": "code",
   "execution_count": 21,
   "metadata": {},
   "outputs": [
    {
     "data": {
      "text/html": [
       "<div>\n",
       "<style scoped>\n",
       "    .dataframe tbody tr th:only-of-type {\n",
       "        vertical-align: middle;\n",
       "    }\n",
       "\n",
       "    .dataframe tbody tr th {\n",
       "        vertical-align: top;\n",
       "    }\n",
       "\n",
       "    .dataframe thead th {\n",
       "        text-align: right;\n",
       "    }\n",
       "</style>\n",
       "<table border=\"1\" class=\"dataframe\">\n",
       "  <thead>\n",
       "    <tr style=\"text-align: right;\">\n",
       "      <th>Fuel_Type</th>\n",
       "      <th>??</th>\n",
       "      <th>CNG</th>\n",
       "      <th>Diesel</th>\n",
       "      <th>Petrol</th>\n",
       "    </tr>\n",
       "    <tr>\n",
       "      <th>Automatic</th>\n",
       "      <th></th>\n",
       "      <th></th>\n",
       "      <th></th>\n",
       "      <th></th>\n",
       "    </tr>\n",
       "  </thead>\n",
       "  <tbody>\n",
       "    <tr>\n",
       "      <th>0</th>\n",
       "      <td>2</td>\n",
       "      <td>16</td>\n",
       "      <td>154</td>\n",
       "      <td>1184</td>\n",
       "    </tr>\n",
       "    <tr>\n",
       "      <th>1</th>\n",
       "      <td>0</td>\n",
       "      <td>1</td>\n",
       "      <td>0</td>\n",
       "      <td>79</td>\n",
       "    </tr>\n",
       "  </tbody>\n",
       "</table>\n",
       "</div>"
      ],
      "text/plain": [
       "Fuel_Type  ??  CNG  Diesel  Petrol\n",
       "Automatic                         \n",
       "0           2   16     154    1184\n",
       "1           0    1       0      79"
      ]
     },
     "execution_count": 21,
     "metadata": {},
     "output_type": "execute_result"
    }
   ],
   "source": [
    "pd.crosstab(index=data_csv[\"Automatic\"],columns=data_csv[\"Fuel_Type\"],dropna=True\t)"
   ]
  },
  {
   "cell_type": "markdown",
   "metadata": {},
   "source": [
    "# SEABORN"
   ]
  },
  {
   "cell_type": "code",
   "execution_count": 22,
   "metadata": {},
   "outputs": [],
   "source": [
    "import seaborn as sns"
   ]
  },
  {
   "cell_type": "code",
   "execution_count": 23,
   "metadata": {},
   "outputs": [],
   "source": [
    "data_csv=pd.read_csv(\"cars_data.csv\",index_col=0,na_values=[\"??\",\"???\"])\n",
    "data_csv.dropna (axis=0, inplace=True)\n"
   ]
  },
  {
   "cell_type": "code",
   "execution_count": 26,
   "metadata": {},
   "outputs": [
    {
     "data": {
      "text/plain": [
       "<AxesSubplot:xlabel='Age', ylabel='Price'>"
      ]
     },
     "execution_count": 26,
     "metadata": {},
     "output_type": "execute_result"
    },
    {
     "data": {
      "image/png": "[encoded data removed]",
      "text/plain": [
       "<Figure size 432x288 with 1 Axes>"
      ]
     },
     "metadata": {},
     "output_type": "display_data"
    }
   ],
   "source": [
    "sns.set(style=\"darkgrid\")\n",
    "sns.regplot(x=data_csv[\"Age\"], y=data_csv[\"Price\"])\n"
   ]
  },
  {
   "cell_type": "code",
   "execution_count": 27,
   "metadata": {},
   "outputs": [
    {
     "data": {
      "text/plain": [
       "<AxesSubplot:xlabel='Fuel_Type', ylabel='count'>"
      ]
     },
     "execution_count": 27,
     "metadata": {},
     "output_type": "execute_result"
    },
    {
     "data": {
      "image/png": "[encoded data removed]",
      "text/plain": [
       "<Figure size 432x288 with 1 Axes>"
      ]
     },
     "metadata": {},
     "output_type": "display_data"
    }
   ],
   "source": [
    "sns.countplot(x=\"Fuel_Type\",data=data_csv)"
   ]
  },
  {
   "cell_type": "code",
   "execution_count": 28,
   "metadata": {},
   "outputs": [
    {
     "data": {
      "text/plain": [
       "<AxesSubplot:ylabel='Price'>"
      ]
     },
     "execution_count": 28,
     "metadata": {},
     "output_type": "execute_result"
    },
    {
     "data": {
      "image/png": "[encoded data removed]",
      "text/plain": [
       "<Figure size 432x288 with 1 Axes>"
      ]
     },
     "metadata": {},
     "output_type": "display_data"
    }
   ],
   "source": [
    "sns.boxplot(y=data_csv[\"Price\"])"
   ]
  },
  {
   "cell_type": "code",
   "execution_count": null,
   "metadata": {},
   "outputs": [],
   "source": []
  }
 ],
 "metadata": {
  "kernelspec": {
   "display_name": "Python 3 (ipykernel)",
   "language": "python",
   "name": "python3"
  },
  "language_info": {
   "codemirror_mode": {
    "name": "ipython",
    "version": 3
   },
   "file_extension": ".py",
   "mimetype": "text/x-python",
   "name": "python",
   "nbconvert_exporter": "python",
   "pygments_lexer": "ipython3",
   "version": "3.8.12"
  }
 },
 "nbformat": 4,
 "nbformat_minor": 4
}
